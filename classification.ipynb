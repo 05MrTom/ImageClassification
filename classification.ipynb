{
 "cells": [
  {
   "cell_type": "markdown",
   "metadata": {},
   "source": [
    "### Train the model"
   ]
  },
  {
   "cell_type": "code",
   "execution_count": null,
   "metadata": {},
   "outputs": [],
   "source": [
    "import tensorflow as tf\n",
    "\n",
    "model = tf.keras.Sequential(\n",
    "    [\n",
    "     tf.keras.layers.Rescaling(1./255),\n",
    "     tf.keras.layers.Conv2D(32, 3, activation=\"relu\"),\n",
    "     tf.keras.layers.MaxPooling2D(),\n",
    "     tf.keras.layers.Conv2D(32, 3, activation=\"relu\"),\n",
    "     tf.keras.layers.MaxPooling2D(),\n",
    "     tf.keras.layers.Conv2D(32, 3, activation=\"relu\"),\n",
    "     tf.keras.layers.MaxPooling2D(),\n",
    "     tf.keras.layers.Flatten(),\n",
    "     tf.keras.layers.Dense(128, activation=\"relu\"),\n",
    "     tf.keras.layers.Dense(3)\n",
    "    ]\n",
    ")\n",
    "model.compile(\n",
    "    optimizer=\"adam\",\n",
    "    loss=tf.losses.SparseCategoricalCrossentropy(from_logits = True),\n",
    "    metrics=['accuracy']\n",
    ")"
   ]
  },
  {
   "cell_type": "code",
   "execution_count": null,
   "metadata": {},
   "outputs": [],
   "source": [
    "import matplotlib.pyplot as plt"
   ]
  },
  {
   "cell_type": "code",
   "execution_count": null,
   "metadata": {},
   "outputs": [],
   "source": [
    "img_height, img_width = 32, 32\n",
    "batch_size = 20\n",
    "\n",
    "train_ds = tf.keras.utils.image_dataset_from_directory(\n",
    "    \"fruits/train\",\n",
    "    image_size = (img_height, img_width),\n",
    "    batch_size = batch_size\n",
    ")\n",
    "val_ds = tf.keras.utils.image_dataset_from_directory(\n",
    "    \"fruits/validation\",\n",
    "    image_size = (img_height, img_width),\n",
    "    batch_size = batch_size\n",
    ")\n",
    "test_ds = tf.keras.utils.image_dataset_from_directory(\n",
    "    \"fruits/test\",\n",
    "    image_size = (img_height, img_width),\n",
    "    batch_size = batch_size\n",
    ")"
   ]
  },
  {
   "cell_type": "code",
   "execution_count": null,
   "metadata": {},
   "outputs": [],
   "source": [
    "class_names = [\"apple\", \"banana\", \"orange\"]\n",
    "plt.figure(figsize=(10,10))\n",
    "for images, labels in train_ds.take(1):\n",
    "  for i in range(9):\n",
    "    ax = plt.subplot(3, 3, i + 1)\n",
    "    plt.imshow(images[i].numpy().astype(\"uint8\"))\n",
    "    plt.title(class_names[labels[i]])\n",
    "    plt.axis(\"off\")"
   ]
  },
  {
   "cell_type": "code",
   "execution_count": null,
   "metadata": {},
   "outputs": [],
   "source": [
    "model.fit(\n",
    "    train_ds,\n",
    "    validation_data = val_ds,\n",
    "    epochs = 100\n",
    ")"
   ]
  },
  {
   "cell_type": "code",
   "execution_count": null,
   "metadata": {},
   "outputs": [],
   "source": [
    "model.evaluate(test_ds)"
   ]
  },
  {
   "cell_type": "code",
   "execution_count": null,
   "metadata": {},
   "outputs": [],
   "source": [
    "model.save('fruit')"
   ]
  },
  {
   "cell_type": "code",
   "execution_count": null,
   "metadata": {},
   "outputs": [],
   "source": [
    "import numpy\n",
    "\n",
    "plt.figure(figsize=(10,10))\n",
    "for images, labels in test_ds.take(1):\n",
    "  classifications = model(images)\n",
    "  print(classifications)\n",
    "  \n",
    "  for i in range(9):\n",
    "    ax = plt.subplot(3, 3, i + 1)\n",
    "    plt.imshow(images[i].numpy().astype(\"uint8\"))\n",
    "    index = numpy.argmax(classifications[i])\n",
    "    plt.title(\"Pred: \" + class_names[index] + \" | Real: \" + class_names[labels[i]])"
   ]
  },
  {
   "cell_type": "code",
   "execution_count": null,
   "metadata": {},
   "outputs": [],
   "source": [
    "import tensorflow as tf\n",
    "from tensorflow.keras.models import load_model\n",
    "\n",
    "# Load the saved model\n",
    "model = load_model('fruit')\n",
    "\n",
    "# Step 1: Read the image file into a tensor\n",
    "image_path = 'apple.jpg'  # Replace this with the path to your image file\n",
    "image_data = tf.io.read_file(image_path)\n",
    "\n",
    "# Step 2: Decode the image data into a tensor\n",
    "image_tensor = tf.image.decode_jpeg(image_data, channels=3)\n",
    "\n",
    "# Step 3: Resize the image to 32x32x3\n",
    "image_tensor_resized = tf.image.resize(image_tensor, [32, 32])\n",
    "\n",
    "# Step 4: Add a batch dimension\n",
    "image_tensor_batch = tf.expand_dims(image_tensor_resized, axis=0)\n",
    "\n",
    "output = model(image_tensor_batch)\n",
    "output"
   ]
  },
  {
   "cell_type": "code",
   "execution_count": null,
   "metadata": {},
   "outputs": [],
   "source": [
    "converter = tf.lite.TFLiteConverter.from_keras_model(model)\n",
    "tflite_model = converter.convert()\n",
    "\n",
    "with open(\"fruits.tflite\", 'wb') as f:\n",
    "  f.write(tflite_model)"
   ]
  },
  {
   "cell_type": "markdown",
   "metadata": {},
   "source": [
    "### tflite inference"
   ]
  },
  {
   "cell_type": "code",
   "execution_count": null,
   "metadata": {},
   "outputs": [],
   "source": [
    "import numpy as np\n",
    "import tensorflow as tf\n",
    "\n",
    "# Load the TFLite model\n",
    "interpreter = tf.lite.Interpreter(model_path='fruits.tflite')\n",
    "interpreter.allocate_tensors()\n",
    "\n",
    "# Get input and output tensors\n",
    "input_details = interpreter.get_input_details()\n",
    "output_details = interpreter.get_output_details()\n",
    "\n",
    "# Step 1: Read the image file into a tensor\n",
    "image_path = 'orange.jpg'  # Replace this with the path to your image file\n",
    "image_data = tf.io.read_file(image_path)\n",
    "\n",
    "# Step 2: Decode the image data into a tensor\n",
    "image_tensor = tf.image.decode_jpeg(image_data, channels=3)\n",
    "\n",
    "# Step 3: Resize the image to 32x32x3\n",
    "image_tensor_resized = tf.image.resize(image_tensor, [32, 32])\n",
    "\n",
    "# Step 4: Normalize the image data (if necessary)\n",
    "# Depending on how the model was trained, you may need to normalize the image data\n",
    "\n",
    "# Preprocess the image tensor according to the input tensor details\n",
    "input_shape = input_details[0]['shape']\n",
    "input_data = tf.cast(image_tensor_resized, dtype=np.float32)\n",
    "input_data = np.expand_dims(input_data, axis=0)  # Add batch dimension if necessary\n",
    "\n",
    "# Set the input tensor values\n",
    "interpreter.set_tensor(input_details[0]['index'], input_data)\n",
    "\n",
    "# Perform inference\n",
    "interpreter.invoke()\n",
    "\n",
    "# Get the output tensor\n",
    "output_data = interpreter.get_tensor(output_details[0]['index'])\n",
    "print(output_data)\n"
   ]
  }
 ],
 "metadata": {
  "language_info": {
   "name": "python"
  }
 },
 "nbformat": 4,
 "nbformat_minor": 2
}
